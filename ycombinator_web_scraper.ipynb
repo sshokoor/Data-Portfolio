{
  "nbformat": 4,
  "nbformat_minor": 0,
  "metadata": {
    "colab": {
      "provenance": []
    },
    "kernelspec": {
      "name": "python3",
      "display_name": "Python 3"
    },
    "language_info": {
      "name": "python"
    }
  },
  "cells": [
    {
      "cell_type": "code",
      "execution_count": 1,
      "metadata": {
        "id": "hwyj_DxPW6_t"
      },
      "outputs": [],
      "source": [
        "from bs4 import BeautifulSoup\n",
        "import requests\n",
        "from pprint import pprint"
      ]
    },
    {
      "cell_type": "code",
      "source": [
        "url = 'https://news.ycombinator.com/jobs'\n",
        "\n",
        "page = requests.get(url)\n",
        "\n",
        "soup = BeautifulSoup(page.content, 'html.parser')"
      ],
      "metadata": {
        "id": "RDV2WdNUW-3i"
      },
      "execution_count": 2,
      "outputs": []
    },
    {
      "cell_type": "code",
      "source": [
        "links = soup.find_all('span', 'titleline')\n",
        "dates = soup.find_all('td', 'subtext')"
      ],
      "metadata": {
        "id": "zxvNAi-PZK0d"
      },
      "execution_count": 3,
      "outputs": []
    },
    {
      "cell_type": "code",
      "source": [
        "import re\n",
        "\n",
        "for link in soup.find_all('a',\n",
        "                          attrs={'href': re.compile(\"^https://\")}):\n",
        "    # display the actual urls\n",
        "    print(link.get('href'))"
      ],
      "metadata": {
        "colab": {
          "base_uri": "https://localhost:8080/"
        },
        "id": "ylsKIE3ssCVo",
        "outputId": "e0b494d1-e6a9-4b12-925c-ca9fedcc2520"
      },
      "execution_count": 4,
      "outputs": [
        {
          "output_type": "stream",
          "name": "stdout",
          "text": [
            "https://news.ycombinator.com\n",
            "https://www.ycombinator.com/jobs\n",
            "https://onesignal.com/careers/4264311006\n",
            "https://www.ycombinator.com/companies/stellar-sleep/jobs/Ubd4rCS-senior-staff-software-engineer\n",
            "https://etleap.com/careers/software-engineer/\n",
            "https://www.workatastartup.com/jobs/61922/\n",
            "https://www.ycombinator.com/companies/ivy/jobs\n",
            "https://www.ycombinator.com/companies/gym-class-by-irl-studios/jobs/ADcM4ZV-backend-engineer\n",
            "https://lantern-db.notion.site/lantern-db/Lantern-is-hiring-Core-Database-Engineers-396a612dcfdb4c9eb274670680c8d8b5\n",
            "https://www.ycombinator.com/companies/ploomber/jobs\n",
            "https://www.ycombinator.com/companies/converge/jobs/vc4Nbeh-founding-product-engineer\n",
            "https://www.ycombinator.com/companies/loops/jobs/R5lUQcn-front-end-engineer\n",
            "https://up.codes/careers\n",
            "https://www.ycombinator.com/companies/eqtble/jobs/bOX2JJp-junior-data-scientist\n",
            "https://www.ycombinator.com/companies/firezone/jobs\n",
            "https://signoz.io/careers/product-designer-in/\n",
            "https://nango.dev/jobs\n",
            "https://www.justpaid.io/careers\n",
            "https://jobs.lever.co/FinleyTechnologies/0a143938-ef2a-47f3-a4c0-861ac68fb1b0\n",
            "https://www.ycombinator.com/companies/treble-ai/jobs/tL8GeWc-full-stack-software-engineer\n",
            "https://padlet.jobs\n",
            "https://www.ycombinator.com/companies/fathom/jobs/L0pyU04Gs-principal-site-reliability-engineer-remote\n",
            "https://jobs.ashbyhq.com/freshpaint/bfe56523-bff4-4ca3-936b-0ba15fb4e572?utm_source=hn\n",
            "https://skio.com/careers/\n",
            "https://www.ycombinator.com/companies/artie/jobs/PzBhYqV-founding-engineer\n",
            "https://www.ycombinator.com/companies/policyfly/jobs/32uV7Bg-senior-solutions-engineer\n",
            "https://www.easypost.com/careers\n",
            "https://www.ycombinator.com/apply/\n",
            "https://github.com/HackerNews/API\n",
            "https://www.ycombinator.com/legal/\n",
            "https://www.ycombinator.com/apply/\n"
          ]
        }
      ]
    },
    {
      "cell_type": "code",
      "source": [
        "links300 = soup.find_all(class_='titleline')[0:31]\n",
        "\n",
        "for text in links300:\n",
        "  print(text.get_text())"
      ],
      "metadata": {
        "colab": {
          "base_uri": "https://localhost:8080/"
        },
        "id": "MToOqe7TivF0",
        "outputId": "12b967c4-5dc1-46aa-d145-9024ca5c787c"
      },
      "execution_count": 5,
      "outputs": [
        {
          "output_type": "stream",
          "name": "stdout",
          "text": [
            "OneSignal (YC S11), email and push notification platform, is hiring engineers (onesignal.com)\n",
            "Stellar Sleep (YC S23) Is Hiring a Senior/ Staff SWE in San Francisco (ycombinator.com)\n",
            "Etleap (YC W13) Is Hiring a Software Engineer (London – OR – San Francisco) (etleap.com)\n",
            "Emerge (YC W21) is hiring a lead front end engineer (remote, small team) (workatastartup.com)\n",
            "Ivy (YC W23) Is Hiring Engineers to Unify ML (ycombinator.com)\n",
            "MixRank (YC S11) is hiring global remote software engineers\n",
            "Gym Class VR (YC W22) Is Hiring a Lead Back End Engineer (ycombinator.com)\n",
            "Lantern (YC W24) – Hiring Engineers to Build PostgreSQL Vector Database for AI (lantern-db.notion.site)\n",
            "Ploomber (YC W22) Is Hiring Software Engineers (ycombinator.com)\n",
            "Converge (YC S23) is hiring a founding product engineer (ycombinator.com)\n",
            "Loops (YC W22) is hiring a remote front-end engineer (ycombinator.com)\n",
            "UpCodes (YC S17) is hiring remote engineers across the Americas (up.codes)\n",
            "Eqtble (YC W21) Is Hiring a Data Analyst (ycombinator.com)\n",
            "GoGoGrandparent (YC S16) is hiring a senior/staff back end/full-stack engineer\n",
            "Firezone (YC W22) is hiring Rust engineers to build secure networks (ycombinator.com)\n",
            "SigNoz (YC W21), open-source Datadog, is hiring product designers (remote) (signoz.io)\n",
            "Nango.dev (YC W23) is hiring a founding back end engineer (remote) (nango.dev)\n",
            "JustPaid.io (YC W23) is hiring a senior full stack engineer (justpaid.io)\n",
            "Finley (YC W21) is hiring customer success managers in software (US remote) (lever.co)\n",
            "Treble.ai (YC S19) Is Hiring Spanish Speaking Engineers in NYC (ycombinator.com)\n",
            "Padlet (YC W13) is hiring in Singapore and San Francisco (padlet.jobs)\n",
            "Meticulous (YC S21) is hiring engineer #3 to build AI for testing\n",
            "Fathom AI Notetaker (YC W21) is hiring a principal SRE (remote) (ycombinator.com)\n",
            "Freshpaint (YC S19) is hiring engineers to build a HIPAA compliant data platform (ashbyhq.com)\n",
            "Skio (YC S20) Is Hiring – Subscriptions for Shopify, ReCharge migrations (skio.com)\n",
            "Generally Intelligent (YC S17) is hiring technical interviewers\n",
            "Artie (YC S23) is hiring a founding engineer (ycombinator.com)\n",
            "PolicyFly (YC W22) Is Hiring a Senior Solutions Engineer (Remote) (ycombinator.com)\n",
            "EasyPost (YC S13) is hiring (easypost.com)\n",
            "Videobug (YC S22) is hiring a founding engineer – automated snapshot testing\n"
          ]
        }
      ]
    },
    {
      "cell_type": "code",
      "source": [
        "for text in links300:\n",
        "    if text.find(string=re.compile(\"Data Analyst\")):\n",
        "        thelink = text\n",
        "print(thelink)"
      ],
      "metadata": {
        "colab": {
          "base_uri": "https://localhost:8080/"
        },
        "id": "gFM-0rfPmNz_",
        "outputId": "b71c045f-55da-453c-8169-d06cab00a928"
      },
      "execution_count": 6,
      "outputs": [
        {
          "output_type": "stream",
          "name": "stdout",
          "text": [
            "<span class=\"titleline\"><a href=\"https://www.ycombinator.com/companies/eqtble/jobs/bOX2JJp-junior-data-scientist\">Eqtble (YC W21) Is Hiring a Data Analyst</a><span class=\"sitebit comhead\"> (<a href=\"from?site=ycombinator.com\"><span class=\"sitestr\">ycombinator.com</span></a>)</span></span>\n"
          ]
        }
      ]
    }
  ]
}